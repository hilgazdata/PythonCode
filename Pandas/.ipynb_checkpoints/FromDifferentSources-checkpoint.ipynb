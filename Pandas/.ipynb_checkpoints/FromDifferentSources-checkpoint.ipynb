{
 "cells": [
  {
   "cell_type": "code",
   "execution_count": null,
   "metadata": {
    "ExecuteTime": {
     "end_time": "2020-07-25T20:16:47.696500Z",
     "start_time": "2020-07-25T20:16:47.682103Z"
    }
   },
   "outputs": [],
   "source": [
    "from pandas import *\n",
    "import pandas\n",
    "import numpy as np\n",
    "import matplotlib.pyplot as plt\n",
    "\n",
    "def side_by_side(*objs, **kwds):\n",
    "    from pandas.core.common import adjoin\n",
    "    space - kwds.get('space',4)\n",
    "    reprs = [repr(obj).split('\\n') for obj in objs]\n",
    "    print adjoin(space, *reprs)\n",
    "    \n",
    "plt.rc('figure', figsize=(10,6))\n",
    "# pandas.set_printoptions(notebook_repr_html=False)\n",
    "\n"
   ]
  },
  {
   "cell_type": "code",
   "execution_count": null,
   "metadata": {},
   "outputs": [],
   "source": [
    "df.ix[2] \n",
    "# gives the second row \n",
    "\n",
    "df.ix[2,'a']\n",
    "# gives single cell\n",
    "\n",
    "df.get_value(2,'a')\n",
    "# does the same \n",
    "\n",
    "del data['foo']['c'] \n",
    "# foo is the name of columns, c is the row. it deletes the cell \n"
   ]
  },
  {
   "cell_type": "code",
   "execution_count": 19,
   "metadata": {
    "ExecuteTime": {
     "end_time": "2020-07-25T23:17:14.341482Z",
     "start_time": "2020-07-25T23:17:14.160759Z"
    }
   },
   "outputs": [
    {
     "name": "stdout",
     "output_type": "stream",
     "text": [
      "head: stock_data.csv: No such file or directory\r\n"
     ]
    }
   ],
   "source": [
    "!head -n 10 stock_data.csv\n",
    "# prints the 10 rows of the data "
   ]
  },
  {
   "cell_type": "code",
   "execution_count": null,
   "metadata": {},
   "outputs": [],
   "source": [
    "df.mean? \n",
    "# gives the parameter options to be filled"
   ]
  },
  {
   "cell_type": "code",
   "execution_count": null,
   "metadata": {},
   "outputs": [],
   "source": [
    "df.ix[-1] \n",
    "#last row of the data"
   ]
  },
  {
   "cell_type": "code",
   "execution_count": null,
   "metadata": {},
   "outputs": [],
   "source": [
    "names[names.year == 1800]\n",
    "# names for babies born in 1800\n",
    "\n",
    "boys = names[names.sex == 'boy']"
   ]
  },
  {
   "cell_type": "code",
   "execution_count": null,
   "metadata": {},
   "outputs": [],
   "source": [
    "boys.groupby('year')\n",
    "boys.groupby('year').size()\n",
    "# how many boys each year has\n",
    "names.gorupby(['year', 'sex']).size()\n",
    "names.gorupby(['year', 'sex']).size().ix(2000)\n",
    "#for the year 2000 (row)\n"
   ]
  },
  {
   "cell_type": "code",
   "execution_count": null,
   "metadata": {},
   "outputs": [],
   "source": [
    "boys.[boys.year == 2000].prop\n",
    "# proportion of boy names\n",
    "\n",
    "boys.ix[boys[boys.year == 2000].prop.idxmax()]\n",
    "# the most frequent boy name of 2000\n"
   ]
  },
  {
   "cell_type": "code",
   "execution_count": null,
   "metadata": {},
   "outputs": [],
   "source": [
    "def get_max_record(boy_name):\n",
    "    return group.ix(boy_name.idxmax())\n",
    "boys.groupby('year').apply(get_max_record)\n",
    "\n",
    "# the boy_name function finds the max popular name for a year\n",
    "# the second one applies it for each year after grouping data yearly \n",
    "\n",
    "result =  boys.groupby('year').apply(get_max_record)\n",
    "result.prop.plot()"
   ]
  },
  {
   "cell_type": "code",
   "execution_count": null,
   "metadata": {},
   "outputs": [],
   "source": [
    "idf = boys.set_index(['name', 'year'])\n",
    "idf.ix['Travis'].prop.plot()\n",
    "# the proportion of Travis name across each year plot "
   ]
  }
 ],
 "metadata": {
  "kernelspec": {
   "display_name": "Python 3",
   "language": "python",
   "name": "python3"
  },
  "language_info": {
   "codemirror_mode": {
    "name": "ipython",
    "version": 3
   },
   "file_extension": ".py",
   "mimetype": "text/x-python",
   "name": "python",
   "nbconvert_exporter": "python",
   "pygments_lexer": "ipython3",
   "version": "3.7.6"
  },
  "toc": {
   "base_numbering": 1,
   "nav_menu": {},
   "number_sections": true,
   "sideBar": true,
   "skip_h1_title": false,
   "title_cell": "Table of Contents",
   "title_sidebar": "Contents",
   "toc_cell": false,
   "toc_position": {},
   "toc_section_display": true,
   "toc_window_display": false
  }
 },
 "nbformat": 4,
 "nbformat_minor": 4
}
