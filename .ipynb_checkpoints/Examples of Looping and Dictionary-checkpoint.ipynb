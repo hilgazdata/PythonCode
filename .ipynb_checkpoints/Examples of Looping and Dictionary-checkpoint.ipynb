{
 "cells": [
  {
   "cell_type": "markdown",
   "metadata": {},
   "source": [
    "# Looping "
   ]
  },
  {
   "cell_type": "code",
   "execution_count": 2,
   "metadata": {},
   "outputs": [
    {
     "name": "stdout",
     "output_type": "stream",
     "text": [
      "0\n",
      "1\n",
      "4\n",
      "9\n",
      "16\n",
      "25\n"
     ]
    }
   ],
   "source": [
    "for i in range(6):\n",
    "    print(i**2)"
   ]
  },
  {
   "cell_type": "code",
   "execution_count": 7,
   "metadata": {},
   "outputs": [
    {
     "name": "stdout",
     "output_type": "stream",
     "text": [
      "red\n",
      "green\n",
      "blue\n"
     ]
    }
   ],
   "source": [
    "colors = ['red', 'green', 'blue']\n",
    "for color in colors:\n",
    "    print(color)"
   ]
  },
  {
   "cell_type": "code",
   "execution_count": 9,
   "metadata": {},
   "outputs": [
    {
     "name": "stdout",
     "output_type": "stream",
     "text": [
      "blue\n",
      "green\n",
      "red\n"
     ]
    }
   ],
   "source": [
    "for color in reversed(colors): ## looping backwards\n",
    "    print(color)"
   ]
  },
  {
   "cell_type": "code",
   "execution_count": 14,
   "metadata": {},
   "outputs": [
    {
     "name": "stdout",
     "output_type": "stream",
     "text": [
      "0 --> red\n",
      "1 --> green\n",
      "2 --> blue\n"
     ]
    }
   ],
   "source": [
    "for i, color in enumerate(colors):\n",
    "    print(i,'-->',colors[i])"
   ]
  },
  {
   "cell_type": "code",
   "execution_count": 17,
   "metadata": {},
   "outputs": [
    {
     "name": "stdout",
     "output_type": "stream",
     "text": [
      "raymond --> red\n",
      "rachel --> green\n",
      "matthew --> blue\n"
     ]
    }
   ],
   "source": [
    "names = ['raymond', 'rachel', 'matthew'] ## Looping over two collections\n",
    "colors = ['red', 'green', 'blue']\n",
    "\n",
    "for name, color in zip(names, colors):\n",
    "    print(name,'-->',color)"
   ]
  },
  {
   "cell_type": "code",
   "execution_count": 18,
   "metadata": {},
   "outputs": [
    {
     "name": "stdout",
     "output_type": "stream",
     "text": [
      "blue\n",
      "green\n",
      "red\n"
     ]
    }
   ],
   "source": [
    "# Looping in sorter order\n",
    "\n",
    "for color in sorted(colors):\n",
    "    print(color)"
   ]
  },
  {
   "cell_type": "code",
   "execution_count": 20,
   "metadata": {},
   "outputs": [
    {
     "name": "stdout",
     "output_type": "stream",
     "text": [
      "['red', 'blue', 'green']\n"
     ]
    }
   ],
   "source": [
    "# custom sort order (sorted according to length)\n",
    "\n",
    "print(sorted(colors,key=len))"
   ]
  },
  {
   "cell_type": "markdown",
   "metadata": {},
   "source": [
    "# Dictionary Skills"
   ]
  },
  {
   "cell_type": "code",
   "execution_count": 21,
   "metadata": {},
   "outputs": [
    {
     "name": "stdout",
     "output_type": "stream",
     "text": [
      "mat\n",
      "rac\n"
     ]
    }
   ],
   "source": [
    "## Looping over dictionary keys\n",
    "\n",
    "d = {'mat':'blue', 'rac':'red'}\n",
    "\n",
    "for k in d:\n",
    "    print(k)"
   ]
  },
  {
   "cell_type": "code",
   "execution_count": 22,
   "metadata": {},
   "outputs": [
    {
     "name": "stdout",
     "output_type": "stream",
     "text": [
      "mat --> blue\n",
      "rac --> red\n"
     ]
    }
   ],
   "source": [
    "## Looping over dictionary keys and values (better way is below)\n",
    "\n",
    "for k in d:\n",
    "    print(k,'-->',d[k])"
   ]
  },
  {
   "cell_type": "code",
   "execution_count": 23,
   "metadata": {},
   "outputs": [
    {
     "name": "stdout",
     "output_type": "stream",
     "text": [
      "mat --> blue\n",
      "rac --> red\n"
     ]
    }
   ],
   "source": [
    "## Looping over dictionary keys and values (better version)\n",
    "\n",
    "for k,v in d.items():\n",
    "    print(k,'-->',v)"
   ]
  },
  {
   "cell_type": "code",
   "execution_count": 26,
   "metadata": {},
   "outputs": [],
   "source": [
    "# Construct a dictionary from pairs\n",
    "\n",
    "names = ['raymond', 'rachel', 'matthew'] \n",
    "colors = ['red', 'green', 'blue']\n",
    "\n",
    "d = dict(zip(names,color))\n",
    "\n"
   ]
  },
  {
   "cell_type": "code",
   "execution_count": 27,
   "metadata": {},
   "outputs": [
    {
     "data": {
      "text/plain": [
       "{'raymond': 'r', 'rachel': 'e', 'matthew': 'd'}"
      ]
     },
     "execution_count": 27,
     "metadata": {},
     "output_type": "execute_result"
    }
   ],
   "source": [
    "d"
   ]
  },
  {
   "cell_type": "code",
   "execution_count": 28,
   "metadata": {},
   "outputs": [],
   "source": [
    "# Counting with dictionaries\n",
    "\n",
    "d = {}\n",
    "\n",
    "for color in colors:\n",
    "    d[color] = d.get(color,0) +1"
   ]
  },
  {
   "cell_type": "code",
   "execution_count": 29,
   "metadata": {},
   "outputs": [
    {
     "data": {
      "text/plain": [
       "{'red': 1, 'green': 1, 'blue': 1}"
      ]
     },
     "execution_count": 29,
     "metadata": {},
     "output_type": "execute_result"
    }
   ],
   "source": [
    "d"
   ]
  },
  {
   "cell_type": "code",
   "execution_count": null,
   "metadata": {},
   "outputs": [],
   "source": [
    "## Grouping with dictionaries "
   ]
  },
  {
   "cell_type": "code",
   "execution_count": 31,
   "metadata": {},
   "outputs": [],
   "source": [
    "from collections import defaultdict"
   ]
  },
  {
   "cell_type": "code",
   "execution_count": 32,
   "metadata": {},
   "outputs": [],
   "source": [
    "d = defaultdict(list)\n",
    "for name in names:\n",
    "    key = len(name)\n",
    "    d[key].append(name)"
   ]
  },
  {
   "cell_type": "code",
   "execution_count": 33,
   "metadata": {},
   "outputs": [
    {
     "data": {
      "text/plain": [
       "defaultdict(list, {7: ['raymond', 'matthew'], 6: ['rachel']})"
      ]
     },
     "execution_count": 33,
     "metadata": {},
     "output_type": "execute_result"
    }
   ],
   "source": [
    "d"
   ]
  },
  {
   "cell_type": "code",
   "execution_count": 34,
   "metadata": {},
   "outputs": [],
   "source": [
    "## Old way of doing the above code\n",
    "\n",
    "d = {}\n",
    "for name in names:\n",
    "    key = len(name)\n",
    "    d.setdefault(key,[]).append(name)"
   ]
  },
  {
   "cell_type": "code",
   "execution_count": 35,
   "metadata": {},
   "outputs": [
    {
     "data": {
      "text/plain": [
       "{7: ['raymond', 'matthew'], 6: ['rachel']}"
      ]
     },
     "execution_count": 35,
     "metadata": {},
     "output_type": "execute_result"
    }
   ],
   "source": [
    "d"
   ]
  },
  {
   "cell_type": "code",
   "execution_count": 36,
   "metadata": {},
   "outputs": [],
   "source": [
    "## popitem()"
   ]
  },
  {
   "cell_type": "code",
   "execution_count": 38,
   "metadata": {},
   "outputs": [
    {
     "name": "stdout",
     "output_type": "stream",
     "text": [
      "rac --> red\n",
      "mat --> blue\n"
     ]
    }
   ],
   "source": [
    "d = {'mat':'blue', 'rac':'red'}\n",
    "\n",
    "while d:\n",
    "    key, value = d.popitem()\n",
    "    print(key,'-->',value)"
   ]
  },
  {
   "cell_type": "markdown",
   "metadata": {},
   "source": [
    "# Improving Clarity"
   ]
  }
 ],
 "metadata": {
  "kernelspec": {
   "display_name": "Python 3",
   "language": "python",
   "name": "python3"
  },
  "language_info": {
   "codemirror_mode": {
    "name": "ipython",
    "version": 3
   },
   "file_extension": ".py",
   "mimetype": "text/x-python",
   "name": "python",
   "nbconvert_exporter": "python",
   "pygments_lexer": "ipython3",
   "version": "3.7.6"
  }
 },
 "nbformat": 4,
 "nbformat_minor": 4
}
